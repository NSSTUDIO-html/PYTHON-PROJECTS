{
 "cells": [
  {
   "cell_type": "code",
   "execution_count": 1,
   "id": "11f87efc-250e-46a6-a8cc-d013ea7d0206",
   "metadata": {},
   "outputs": [
    {
     "name": "stdout",
     "output_type": "stream",
     "text": [
      "0    10\n",
      "1    20\n",
      "2    30\n",
      "3    40\n",
      "dtype: int64\n"
     ]
    }
   ],
   "source": [
    "import pandas as pd\n",
    "\n",
    "data = [10, 20, 30, 40]\n",
    "s = pd.Series(data)\n",
    "\n",
    "print(s)\n"
   ]
  },
  {
   "cell_type": "code",
   "execution_count": 2,
   "id": "2cd7c999-b38e-41d0-98f7-078be97cdd1a",
   "metadata": {},
   "outputs": [
    {
     "name": "stdout",
     "output_type": "stream",
     "text": [
      "a    100\n",
      "b    200\n",
      "c    300\n",
      "d    400\n",
      "Name: Scores, dtype: int64\n",
      "Name of Series: Scores\n",
      "Index Labels: Index(['a', 'b', 'c', 'd'], dtype='object')\n"
     ]
    }
   ],
   "source": [
    "import pandas as pd\n",
    "\n",
    "data = [100, 200, 300, 400]\n",
    "index_labels = ['a', 'b', 'c', 'd']\n",
    "\n",
    "s = pd.Series(data, index=index_labels, name=\"Scores\")\n",
    "\n",
    "print(s)\n",
    "print(\"Name of Series:\", s.name)\n",
    "print(\"Index Labels:\", s.index)\n"
   ]
  },
  {
   "cell_type": "code",
   "execution_count": 3,
   "id": "b8efa025-ea0a-48e7-9e88-7e2273cd037d",
   "metadata": {},
   "outputs": [
    {
     "name": "stdout",
     "output_type": "stream",
     "text": [
      "100\n",
      "100\n",
      "b    200\n",
      "d    400\n",
      "Name: Scores, dtype: int64\n"
     ]
    },
    {
     "name": "stderr",
     "output_type": "stream",
     "text": [
      "C:\\Users\\MAHESH\\AppData\\Local\\Temp\\ipykernel_10248\\979714694.py:2: FutureWarning: Series.__getitem__ treating keys as positions is deprecated. In a future version, integer keys will always be treated as labels (consistent with DataFrame behavior). To access a value by position, use `ser.iloc[pos]`\n",
      "  print(s[0])        # Access using position\n"
     ]
    }
   ],
   "source": [
    "print(s['a'])      # Access using label\n",
    "print(s[0])        # Access using position\n",
    "print(s[['b', 'd']])  # Multiple elements\n"
   ]
  },
  {
   "cell_type": "code",
   "execution_count": 4,
   "id": "3d537f26-15e0-44e3-8a43-5ac9ec9a2b37",
   "metadata": {},
   "outputs": [
    {
     "name": "stdout",
     "output_type": "stream",
     "text": [
      "100\n",
      "100\n"
     ]
    }
   ],
   "source": [
    "print(s.iloc[0])    # Access by position\n",
    "print(s.loc['a'])   # Access by label\n"
   ]
  },
  {
   "cell_type": "code",
   "execution_count": 5,
   "id": "c7c12397-d134-4766-aaca-30da161d1b76",
   "metadata": {},
   "outputs": [
    {
     "name": "stdout",
     "output_type": "stream",
     "text": [
      "a    100\n",
      "b    200\n",
      "c    300\n",
      "Name: Scores, dtype: int64\n",
      "b    200\n",
      "c    300\n",
      "Name: Scores, dtype: int64\n",
      "a    100\n",
      "b    250\n",
      "c    300\n",
      "d    400\n",
      "Name: Scores, dtype: int64\n",
      "a    100\n",
      "b    250\n",
      "c    350\n",
      "d    400\n",
      "Name: Scores, dtype: int64\n"
     ]
    }
   ],
   "source": [
    "# Slicing using label range\n",
    "print(s['a':'c'])   # Includes 'c'\n",
    "\n",
    "# Slicing using position\n",
    "print(s.iloc[1:3])  # Excludes index 3\n",
    "\n",
    "# Modifying value by label\n",
    "s['b'] = 250\n",
    "print(s)\n",
    "\n",
    "# Modifying value by position\n",
    "s.iloc[2] = 350\n",
    "print(s)\n"
   ]
  },
  {
   "cell_type": "code",
   "execution_count": 6,
   "id": "8187ae14-68cd-40d0-9e03-d22dac7250f2",
   "metadata": {},
   "outputs": [
    {
     "name": "stdout",
     "output_type": "stream",
     "text": [
      "a    11\n",
      "b    22\n",
      "c    33\n",
      "dtype: int64\n",
      "a     9\n",
      "b    18\n",
      "c    27\n",
      "dtype: int64\n",
      "a    10\n",
      "b    40\n",
      "c    90\n",
      "dtype: int64\n",
      "a    10.0\n",
      "b    10.0\n",
      "c    10.0\n",
      "dtype: float64\n",
      "a    110.0\n",
      "b    220.0\n",
      "c      NaN\n",
      "d      NaN\n",
      "dtype: float64\n",
      "a    False\n",
      "b     True\n",
      "c     True\n",
      "dtype: bool\n",
      "b    20\n",
      "c    30\n",
      "dtype: int64\n",
      "60\n",
      "20.0\n",
      "30\n",
      "10\n",
      "a    10\n",
      "b    20\n",
      "c    30\n",
      "dtype: int64\n",
      "a    10\n",
      "b    20\n",
      "c    30\n",
      "dtype: int64\n"
     ]
    }
   ],
   "source": [
    "import pandas as pd\n",
    "\n",
    "s1 = pd.Series([10, 20, 30], index=['a', 'b', 'c'])\n",
    "s2 = pd.Series([1, 2, 3], index=['a', 'b', 'c'])\n",
    "\n",
    "print(s1 + s2)      # Addition\n",
    "print(s1 - s2)      # Subtraction\n",
    "print(s1 * s2)      # Multiplication\n",
    "print(s1 / s2)      # Division\n",
    "s3 = pd.Series([100, 200, 300], index=['a', 'b', 'd'])\n",
    "\n",
    "print(s1 + s3)  # Will show NaN where indexes do not match\n",
    "print(s1 > 15)         # Returns a boolean Series\n",
    "print(s1[s1 > 15])     # Filters values > 15\n",
    "print(s1.sum())        # Sum of elements\n",
    "print(s1.mean())       # Mean\n",
    "print(s1.max())        # Maximum\n",
    "print(s1.min())        # Minimum\n",
    "print(s1.sort_values())  # Sort by value\n",
    "print(s1.sort_index())   # Sort by index\n"
   ]
  },
  {
   "cell_type": "code",
   "execution_count": 7,
   "id": "ceb359c3-3b6c-4aa8-987f-93aad3ae9f43",
   "metadata": {},
   "outputs": [
    {
     "name": "stdout",
     "output_type": "stream",
     "text": [
      "      Name  Age       City\n",
      "0    Alice   25      Delhi\n",
      "1      Bob   30     Mumbai\n",
      "2  Charlie   22  Bangalore\n"
     ]
    }
   ],
   "source": [
    "import pandas as pd\n",
    "\n",
    "data = {\n",
    "    'Name': ['Alice', 'Bob', 'Charlie'],\n",
    "    'Age': [25, 30, 22],\n",
    "    'City': ['Delhi', 'Mumbai', 'Bangalore']\n",
    "}\n",
    "\n",
    "df = pd.DataFrame(data)\n",
    "print(df)\n"
   ]
  },
  {
   "cell_type": "code",
   "execution_count": 8,
   "id": "a002c8c6-8081-4fc1-98d7-cd9eefcdf6ae",
   "metadata": {},
   "outputs": [
    {
     "name": "stdout",
     "output_type": "stream",
     "text": [
      "      Name  Age       City\n",
      "0    Alice   25      Delhi\n",
      "1      Bob   30     Mumbai\n",
      "2  Charlie   22  Bangalore\n",
      "      Name  Age       City\n",
      "1      Bob   30     Mumbai\n",
      "2  Charlie   22  Bangalore\n",
      "0      Alice\n",
      "1        Bob\n",
      "2    Charlie\n",
      "Name: Name, dtype: object\n",
      "      Name  Age\n",
      "0    Alice   25\n",
      "1      Bob   30\n",
      "2  Charlie   22\n",
      "Name    Alice\n",
      "Age        25\n",
      "City    Delhi\n",
      "Name: 0, dtype: object\n",
      "Name       Bob\n",
      "Age         30\n",
      "City    Mumbai\n",
      "Name: 1, dtype: object\n"
     ]
    }
   ],
   "source": [
    "print(df.head())      # First 5 rows\n",
    "print(df.tail(2))     # Last 2 rows\n",
    "print(df['Name'])             # Single column (as Series)\n",
    "print(df[['Name', 'Age']])    # Multiple columns (as DataFrame)\n",
    "print(df.loc[0])     # Row by label/index (named/indexed)\n",
    "print(df.iloc[1])    # Row by position\n"
   ]
  },
  {
   "cell_type": "code",
   "execution_count": 9,
   "id": "4b5926cb-00c9-4b26-8f18-3e6c37683442",
   "metadata": {},
   "outputs": [
    {
     "name": "stdout",
     "output_type": "stream",
     "text": [
      "(3, 3)\n",
      "Index(['Name', 'Age', 'City'], dtype='object')\n",
      "RangeIndex(start=0, stop=3, step=1)\n",
      "Name    object\n",
      "Age      int64\n",
      "City    object\n",
      "dtype: object\n",
      "<class 'pandas.core.frame.DataFrame'>\n",
      "RangeIndex: 3 entries, 0 to 2\n",
      "Data columns (total 3 columns):\n",
      " #   Column  Non-Null Count  Dtype \n",
      "---  ------  --------------  ----- \n",
      " 0   Name    3 non-null      object\n",
      " 1   Age     3 non-null      int64 \n",
      " 2   City    3 non-null      object\n",
      "dtypes: int64(1), object(2)\n",
      "memory usage: 200.0+ bytes\n",
      "None\n",
      "             Age\n",
      "count   3.000000\n",
      "mean   25.666667\n",
      "std     4.041452\n",
      "min    22.000000\n",
      "25%    23.500000\n",
      "50%    25.000000\n",
      "75%    27.500000\n",
      "max    30.000000\n"
     ]
    }
   ],
   "source": [
    "print(df.shape)       # Rows, Columns\n",
    "print(df.columns)     # Column names\n",
    "print(df.index)       # Row indices\n",
    "print(df.dtypes)      # Data types\n",
    "print(df.info())      # Full info\n",
    "print(df.describe())  # Statistical summary\n"
   ]
  },
  {
   "cell_type": "code",
   "execution_count": 10,
   "id": "2e9ceb1f-69fb-49a3-b3cb-76e5ef19bf2b",
   "metadata": {},
   "outputs": [
    {
     "name": "stdout",
     "output_type": "stream",
     "text": [
      "      Name  Age       City  Salary\n",
      "0    Alice   25      Delhi   50000\n",
      "1      Bob   30     Mumbai   60000\n",
      "2  Charlie   22  Bangalore   45000\n",
      "      Name  Age       City  Salary\n",
      "0    Alice   26      Delhi   50000\n",
      "1      Bob   30       Pune   60000\n",
      "2  Charlie   22  Bangalore   45000\n",
      "      Name  Age       City\n",
      "0    Alice   26      Delhi\n",
      "1      Bob   30       Pune\n",
      "2  Charlie   22  Bangalore\n"
     ]
    }
   ],
   "source": [
    "df['Salary'] = [50000, 60000, 45000]\n",
    "print(df)\n",
    "df.at[0, 'Age'] = 26           # Modify by label\n",
    "df.iat[1, 2] = 'Pune'          # Modify by position\n",
    "print(df)\n",
    "del df['Salary']              # OR: df.drop('Salary', axis=1, inplace=True)\n",
    "print(df)\n"
   ]
  },
  {
   "cell_type": "code",
   "execution_count": 11,
   "id": "944a2506-9240-4032-ac4e-45471cd058ae",
   "metadata": {},
   "outputs": [
    {
     "name": "stdout",
     "output_type": "stream",
     "text": [
      "    Name  Age   City\n",
      "0  Alice   26  Delhi\n",
      "1    Bob   30   Pune\n",
      "    Name  Age   City\n",
      "0  Alice   26  Delhi\n",
      "  Name  Age  City\n",
      "1  Bob   30  Pune\n",
      "      Name  Age       City\n",
      "2  Charlie   22  Bangalore\n",
      "0    Alice   26      Delhi\n",
      "1      Bob   30       Pune\n",
      "      Name  Age       City\n",
      "2  Charlie   22  Bangalore\n",
      "1      Bob   30       Pune\n",
      "0    Alice   26      Delhi\n"
     ]
    }
   ],
   "source": [
    "print(df[df['Age'] > 25])         # Age greater than 25\n",
    "print(df[df['City'] == 'Delhi'])  # People from Delhi\n",
    "print(df[(df['Age'] > 25) & (df['City'] == 'Pune')])\n",
    "print(df.sort_values('Age'))              # Ascending\n",
    "print(df.sort_values('Name', ascending=False))  # Descending\n"
   ]
  },
  {
   "cell_type": "code",
   "execution_count": 12,
   "id": "83352700-0416-440a-9b96-bf8bca26d524",
   "metadata": {},
   "outputs": [
    {
     "name": "stdout",
     "output_type": "stream",
     "text": [
      "    Name  Age       City\n",
      "0   Naga   21  Hyderabad\n",
      "1  Rahul   22    Chennai\n",
      "2  Priya   23  Bangalore\n"
     ]
    }
   ],
   "source": [
    "import pandas as pd\n",
    "\n",
    "# Create data\n",
    "data = {\n",
    "    'Name': ['Naga', 'Rahul', 'Priya'],\n",
    "    'Age': [21, 22, 23],\n",
    "    'City': ['Hyderabad', 'Chennai', 'Bangalore']\n",
    "}\n",
    "\n",
    "df = pd.DataFrame(data)\n",
    "\n",
    "# Save to CSV\n",
    "df.to_csv('data.csv', index=False)\n",
    "\n",
    "# Read and print to confirm\n",
    "df_loaded = pd.read_csv('data.csv')\n",
    "print(df_loaded)\n"
   ]
  },
  {
   "cell_type": "code",
   "execution_count": 13,
   "id": "f6d4f370-d7a4-4b9d-9441-0b138084ffe8",
   "metadata": {},
   "outputs": [
    {
     "name": "stdout",
     "output_type": "stream",
     "text": [
      "0     Naga\n",
      "1    Rahul\n",
      "2    Priya\n",
      "Name: Name, dtype: object\n",
      "    Name  Age\n",
      "0   Naga   21\n",
      "1  Rahul   22\n",
      "2  Priya   23\n",
      "Name         Naga\n",
      "Age            21\n",
      "City    Hyderabad\n",
      "Name: 0, dtype: object\n",
      "Name      Rahul\n",
      "Age          22\n",
      "City    Chennai\n",
      "Name: 1, dtype: object\n"
     ]
    }
   ],
   "source": [
    "import pandas as pd\n",
    "\n",
    "data = {\n",
    "    'Name': ['Naga', 'Rahul', 'Priya'],\n",
    "    'Age': [21, 22, 23],\n",
    "    'City': ['Hyderabad', 'Chennai', 'Bangalore']\n",
    "}\n",
    "\n",
    "df = pd.DataFrame(data)\n",
    "\n",
    "# Select a single column\n",
    "print(df['Name'])\n",
    "\n",
    "# Select multiple columns\n",
    "print(df[['Name', 'Age']])\n",
    "\n",
    "# Select a row by index\n",
    "print(df.loc[0])   # by label/index\n",
    "print(df.iloc[1])  # by position\n"
   ]
  },
  {
   "cell_type": "code",
   "execution_count": 14,
   "id": "567e7b55-8f2d-45b0-a861-337cc3cdaf04",
   "metadata": {},
   "outputs": [
    {
     "name": "stdout",
     "output_type": "stream",
     "text": [
      "    Name  Age       City\n",
      "1  Rahul   22    Chennai\n",
      "2  Priya   23  Bangalore\n",
      "    Name  Age     City\n",
      "1  Rahul   22  Chennai\n",
      "    Name  Age       City  Score\n",
      "0   Naga   22  Hyderabad     88\n",
      "1  Rahul   23    Chennai     92\n",
      "2  Priya   24  Bangalore     79\n",
      "    Name  Age       City\n",
      "1  Rahul   23    Chennai\n",
      "2  Priya   24  Bangalore\n"
     ]
    }
   ],
   "source": [
    "# Filter where age > 21\n",
    "print(df[df['Age'] > 21])\n",
    "\n",
    "# Filter by multiple conditions (Age > 21 and City is Chennai)\n",
    "print(df[(df['Age'] > 21) & (df['City'] == 'Chennai')])\n",
    "# Add new column\n",
    "df['Score'] = [88, 92, 79]\n",
    "\n",
    "# Modify column\n",
    "df['Age'] = df['Age'] + 1\n",
    "\n",
    "print(df)\n",
    "# Drop a column\n",
    "df = df.drop('Score', axis=1)\n",
    "\n",
    "# Drop a row by index\n",
    "df = df.drop(0, axis=0)\n",
    "\n",
    "print(df)\n"
   ]
  },
  {
   "cell_type": "code",
   "execution_count": 15,
   "id": "7d688b08-0fcc-4e41-bef1-50d474b1171e",
   "metadata": {},
   "outputs": [
    {
     "name": "stdout",
     "output_type": "stream",
     "text": [
      "  Department Student  Marks\n",
      "0        CSE       A     85\n",
      "1        CSE       B     90\n",
      "2        ECE       C     78\n",
      "3        ECE       D     92\n",
      "4       MECH       E     88\n",
      "Department\n",
      "CSE     87.5\n",
      "ECE     85.0\n",
      "MECH    88.0\n",
      "Name: Marks, dtype: float64\n",
      "            mean  max  min\n",
      "Department                \n",
      "CSE         87.5   90   85\n",
      "ECE         85.0   92   78\n",
      "MECH        88.0   88   88\n",
      "Dept  Year\n",
      "CSE   1       80.0\n",
      "      2       90.0\n",
      "ECE   1       70.0\n",
      "      2       85.0\n",
      "Name: Marks, dtype: float64\n"
     ]
    }
   ],
   "source": [
    "import pandas as pd\n",
    "\n",
    "data = {\n",
    "    'Department': ['CSE', 'CSE', 'ECE', 'ECE', 'MECH'],\n",
    "    'Student': ['A', 'B', 'C', 'D', 'E'],\n",
    "    'Marks': [85, 90, 78, 92, 88]\n",
    "}\n",
    "\n",
    "df = pd.DataFrame(data)\n",
    "print(df)\n",
    "# Group by 'Department' and get average marks\n",
    "print(df.groupby('Department')['Marks'].mean())\n",
    "# Apply multiple aggregation functions\n",
    "print(df.groupby('Department')['Marks'].agg(['mean', 'max', 'min']))\n",
    "# You can also group by multiple columns\n",
    "df2 = pd.DataFrame({\n",
    "    'Dept': ['CSE', 'CSE', 'ECE', 'ECE'],\n",
    "    'Year': [1, 2, 1, 2],\n",
    "    'Marks': [80, 90, 70, 85]\n",
    "})\n",
    "\n",
    "print(df2.groupby(['Dept', 'Year'])['Marks'].mean())\n"
   ]
  },
  {
   "cell_type": "code",
   "execution_count": 16,
   "id": "42f0f503-0222-4e3e-a94a-16cc1ce7e2ca",
   "metadata": {},
   "outputs": [
    {
     "name": "stdout",
     "output_type": "stream",
     "text": [
      "      Name   Age     City\n",
      "0    Alice  25.0    Delhi\n",
      "1      Bob   NaN   Mumbai\n",
      "2  Charlie  30.0      NaN\n",
      "3    David   NaN  Chennai\n",
      "4      Eve  22.0  Kolkata\n",
      "    Name    Age   City\n",
      "0  False  False  False\n",
      "1  False   True  False\n",
      "2  False  False   True\n",
      "3  False   True  False\n",
      "4  False  False  False\n",
      "Name    0\n",
      "Age     2\n",
      "City    1\n",
      "dtype: int64\n",
      "    Name   Age     City\n",
      "0  Alice  25.0    Delhi\n",
      "4    Eve  22.0  Kolkata\n",
      "      Name   Age     City\n",
      "0    Alice  25.0    Delhi\n",
      "1      Bob   0.0   Mumbai\n",
      "2  Charlie  30.0        0\n",
      "3    David   0.0  Chennai\n",
      "4      Eve  22.0  Kolkata\n",
      "      Name        Age     City\n",
      "0    Alice  25.000000    Delhi\n",
      "1      Bob  25.666667   Mumbai\n",
      "2  Charlie  30.000000  Unknown\n",
      "3    David  25.666667  Chennai\n",
      "4      Eve  22.000000  Kolkata\n",
      "      Name   Age     City\n",
      "0    Alice  25.0    Delhi\n",
      "1      Bob  25.0   Mumbai\n",
      "2  Charlie  30.0   Mumbai\n",
      "3    David  30.0  Chennai\n",
      "4      Eve  22.0  Kolkata\n",
      "      Name   Age     City\n",
      "0    Alice  25.0    Delhi\n",
      "1      Bob  30.0   Mumbai\n",
      "2  Charlie  30.0  Chennai\n",
      "3    David  22.0  Chennai\n",
      "4      Eve  22.0  Kolkata\n",
      "True\n"
     ]
    },
    {
     "name": "stderr",
     "output_type": "stream",
     "text": [
      "C:\\Users\\MAHESH\\AppData\\Local\\Temp\\ipykernel_10248\\753367096.py:25: FutureWarning: DataFrame.fillna with 'method' is deprecated and will raise in a future version. Use obj.ffill() or obj.bfill() instead.\n",
      "  print(df.fillna(method='ffill'))  # Fill with forward value\n",
      "C:\\Users\\MAHESH\\AppData\\Local\\Temp\\ipykernel_10248\\753367096.py:26: FutureWarning: DataFrame.fillna with 'method' is deprecated and will raise in a future version. Use obj.ffill() or obj.bfill() instead.\n",
      "  print(df.fillna(method='bfill'))  # Fill with backward value\n"
     ]
    }
   ],
   "source": [
    "import pandas as pd\n",
    "import numpy as np\n",
    "\n",
    "data = {\n",
    "    'Name': ['Alice', 'Bob', 'Charlie', 'David', 'Eve'],\n",
    "    'Age': [25, np.nan, 30, np.nan, 22],\n",
    "    'City': ['Delhi', 'Mumbai', np.nan, 'Chennai', 'Kolkata']\n",
    "}\n",
    "\n",
    "df = pd.DataFrame(data)\n",
    "print(df)\n",
    "print(df.isnull())        # Returns True for NaNs\n",
    "print(df.isnull().sum())  # Count of NaNs per column\n",
    "df_dropped = df.dropna()  # Drops rows with any NaN\n",
    "print(df_dropped)\n",
    "\n",
    "# Drop only if *all* values in a row are NaN\n",
    "df_dropped_all = df.dropna(how='all')\n",
    "df_filled = df.fillna(0)  # Replaces NaN with 0\n",
    "print(df_filled)\n",
    "\n",
    "# Fill with specific values\n",
    "df_filled = df.fillna({'Age': df['Age'].mean(), 'City': 'Unknown'})\n",
    "print(df_filled)\n",
    "print(df.fillna(method='ffill'))  # Fill with forward value\n",
    "print(df.fillna(method='bfill'))  # Fill with backward value\n",
    "print(df.isnull().values.any())  # Returns True if any NaN present\n"
   ]
  },
  {
   "cell_type": "code",
   "execution_count": null,
   "id": "d23e0445-ab7f-4c5a-87b8-8aa8c363b69b",
   "metadata": {},
   "outputs": [],
   "source": []
  }
 ],
 "metadata": {
  "kernelspec": {
   "display_name": "Python 3 (ipykernel)",
   "language": "python",
   "name": "python3"
  },
  "language_info": {
   "codemirror_mode": {
    "name": "ipython",
    "version": 3
   },
   "file_extension": ".py",
   "mimetype": "text/x-python",
   "name": "python",
   "nbconvert_exporter": "python",
   "pygments_lexer": "ipython3",
   "version": "3.10.0"
  }
 },
 "nbformat": 4,
 "nbformat_minor": 5
}
