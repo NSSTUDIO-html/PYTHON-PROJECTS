{
 "cells": [
  {
   "cell_type": "code",
   "execution_count": 1,
   "id": "7e03939d-4065-4854-ab5e-db02f86b4fd1",
   "metadata": {},
   "outputs": [
    {
     "name": "stdout",
     "output_type": "stream",
     "text": [
      "Requirement already satisfied: numpy in c:\\users\\mahesh\\appdata\\local\\programs\\python\\python310\\lib\\site-packages (2.1.3)\n",
      "Note: you may need to restart the kernel to use updated packages.\n"
     ]
    }
   ],
   "source": [
    "pip install numpy\n"
   ]
  },
  {
   "cell_type": "code",
   "execution_count": 2,
   "id": "8c0e21e2-3752-4900-a015-6548f313cad8",
   "metadata": {},
   "outputs": [
    {
     "name": "stdout",
     "output_type": "stream",
     "text": [
      "[1 2 3]\n",
      "[[1 2 3]\n",
      " [4 5 6]]\n",
      "[[[1 2]\n",
      "  [3 4]]\n",
      "\n",
      " [[5 6]\n",
      "  [7 8]]]\n"
     ]
    }
   ],
   "source": [
    "import numpy as np\n",
    "arr1 = np.array([1, 2, 3])\n",
    "print(arr1)\n",
    "arr2 = np.array([[1, 2, 3], [4, 5, 6]])\n",
    "print(arr2)\n",
    "arr3 = np.array([[[1, 2], [3, 4]], [[5, 6], [7, 8]]])\n",
    "print(arr3)\n"
   ]
  },
  {
   "cell_type": "code",
   "execution_count": 3,
   "id": "a87abdad-db76-400c-92e2-f1af425d97b9",
   "metadata": {},
   "outputs": [
    {
     "name": "stdout",
     "output_type": "stream",
     "text": [
      "Shape: (2, 3)\n",
      "Size: 6\n",
      "Dimensions: 2\n",
      "Data type: int64\n"
     ]
    }
   ],
   "source": [
    "print(\"Shape:\", arr2.shape)\n",
    "print(\"Size:\", arr2.size)\n",
    "print(\"Dimensions:\", arr2.ndim)\n",
    "print(\"Data type:\", arr2.dtype)\n"
   ]
  },
  {
   "cell_type": "code",
   "execution_count": 6,
   "id": "533865e6-384f-40b3-9956-48ae006325d5",
   "metadata": {},
   "outputs": [
    {
     "name": "stdout",
     "output_type": "stream",
     "text": [
      "[10 12 14 16 18 20 22 24 26 28 30 32 34 36 38 40 42 44 46 48 50]\n",
      "[[0 0 0 0 0]\n",
      " [0 0 0 0 0]\n",
      " [0 0 1 0 0]\n",
      " [0 0 0 0 0]\n",
      " [0 0 0 0 0]]\n"
     ]
    }
   ],
   "source": [
    "arr = np.arange(10, 51)\n",
    "print(arr[arr % 2 == 0])\n",
    "matrix = np.zeros((5, 5), dtype=int)\n",
    "matrix[2, 2] = 1\n",
    "print(matrix)\n"
   ]
  },
  {
   "cell_type": "code",
   "execution_count": 12,
   "id": "5cbc1562-fc7f-4d61-818b-55df2f41ff42",
   "metadata": {},
   "outputs": [
    {
     "name": "stdout",
     "output_type": "stream",
     "text": [
      "(1, 2, 2) 4 3\n",
      "[[[1 2]\n",
      "  [2 3]]]\n"
     ]
    }
   ],
   "source": [
    "arr = np.array([[[1,2],[2,3]]])\n",
    "print(arr.shape,arr.size,arr.ndim,)\n",
    "print(arr)"
   ]
  },
  {
   "cell_type": "code",
   "execution_count": 13,
   "id": "38eeeb4e-6553-4518-ae7e-052f4b29ee4a",
   "metadata": {},
   "outputs": [
    {
     "name": "stdout",
     "output_type": "stream",
     "text": [
      "10\n",
      "3\n",
      "6\n",
      "[10 20 30]\n",
      "[[2 3]\n",
      " [5 6]]\n"
     ]
    }
   ],
   "source": [
    "arr = np.array([10, 20, 30, 40])\n",
    "print(arr[0])  # 10\n",
    "arr = np.array([[1, 2], [3, 4]])\n",
    "print(arr[1, 0])  # 3\n",
    "arr = np.array([[[1, 2], [3, 4]], [[5, 6], [7, 8]]])\n",
    "print(arr[1, 0, 1])  # 6\n",
    "arr = np.array([0, 10, 20, 30, 40])\n",
    "print(arr[1:4])  # [10 20 30]\n",
    "arr = np.array([[1, 2, 3], [4, 5, 6]])\n",
    "print(arr[:, 1:])  # [[2 3], [5 6]]\n"
   ]
  },
  {
   "cell_type": "code",
   "execution_count": 14,
   "id": "f6dafbcf-4221-4f5d-9c3b-f7acf2ec668c",
   "metadata": {},
   "outputs": [
    {
     "name": "stdout",
     "output_type": "stream",
     "text": [
      "[15 20]\n",
      "[100 300]\n",
      "[[1 2 3]\n",
      " [4 5 6]]\n",
      "[1 2 3 4 5 6]\n"
     ]
    }
   ],
   "source": [
    "arr = np.array([5, 10, 15, 20])\n",
    "print(arr[arr > 10])  # [15 20]\n",
    "arr = np.array([100, 200, 300, 400])\n",
    "print(arr[[0, 2]])  # [100 300]\n",
    "arr = np.array([1, 2, 3, 4, 5, 6])\n",
    "reshaped = arr.reshape(2, 3)\n",
    "print(reshaped)\n",
    "print(reshaped.flatten())  # [1 2 3 4 5 6]\n"
   ]
  },
  {
   "cell_type": "code",
   "execution_count": 15,
   "id": "44e3ec4b-19c1-4ece-afd8-37de63ce0291",
   "metadata": {},
   "outputs": [
    {
     "name": "stdout",
     "output_type": "stream",
     "text": [
      "[100   2   3]\n",
      "[1 2 3]\n"
     ]
    }
   ],
   "source": [
    "arr = np.array([1, 2, 3])\n",
    "view = arr.view()\n",
    "copy = arr.copy()\n",
    "\n",
    "arr[0] = 100\n",
    "print(view)  # Reflects changes → [100 2 3]\n",
    "print(copy)  # Doesn't reflect → [1 2 3]\n"
   ]
  },
  {
   "cell_type": "code",
   "execution_count": 16,
   "id": "900e3299-3bb5-4bed-91c9-e163a85db79a",
   "metadata": {},
   "outputs": [
    {
     "name": "stdout",
     "output_type": "stream",
     "text": [
      "5\n"
     ]
    }
   ],
   "source": [
    "arr = np.arange(1, 10).reshape(3, 3)\n",
    "print(arr[1, 1])  # Output: 5\n"
   ]
  },
  {
   "cell_type": "code",
   "execution_count": 17,
   "id": "c19816e4-ba63-4ce5-9b90-a3b9577fa06b",
   "metadata": {},
   "outputs": [
    {
     "name": "stdout",
     "output_type": "stream",
     "text": [
      "[7 8 9]\n",
      "[6 7 8 9]\n"
     ]
    }
   ],
   "source": [
    "print(arr[2, :])  # [7 8 9]\n",
    "print(arr[arr > 5])  # [6 7 8 9]\n"
   ]
  },
  {
   "cell_type": "code",
   "execution_count": 18,
   "id": "efdac6b1-4f1e-45e1-ba9e-abd82bc3a253",
   "metadata": {},
   "outputs": [
    {
     "name": "stdout",
     "output_type": "stream",
     "text": [
      "[5 7 9]\n",
      "[ 4 10 18]\n",
      "[0.25 0.4  0.5 ]\n",
      "[1 4 9]\n"
     ]
    }
   ],
   "source": [
    "a = np.array([1, 2, 3])\n",
    "b = np.array([4, 5, 6])\n",
    "\n",
    "print(a + b)  # [5 7 9]\n",
    "print(a * b)  # [4 10 18]\n",
    "print(a / b)  # [0.25 0.4  0.5]\n",
    "print(a ** 2) # [1 4 9]\n"
   ]
  },
  {
   "cell_type": "code",
   "execution_count": 19,
   "id": "fe14d234-74bd-4d69-aece-b87e97913505",
   "metadata": {},
   "outputs": [
    {
     "name": "stdout",
     "output_type": "stream",
     "text": [
      "Sum: 21\n",
      "Mean: 3.5\n",
      "Max: 6\n",
      "Min: 1\n",
      "Standard Deviation: 1.707825127659933\n",
      "Sum across columns: [5 7 9]\n",
      "Sum across rows: [ 6 15]\n"
     ]
    }
   ],
   "source": [
    "arr = np.array([[1, 2, 3], [4, 5, 6]])\n",
    "\n",
    "print(\"Sum:\", arr.sum())             # 21\n",
    "print(\"Mean:\", arr.mean())           # 3.5\n",
    "print(\"Max:\", arr.max())             # 6\n",
    "print(\"Min:\", arr.min())             # 1\n",
    "print(\"Standard Deviation:\", arr.std())  # 1.707...\n",
    "print(\"Sum across columns:\", arr.sum(axis=0))  # [5 7 9]\n",
    "print(\"Sum across rows:\", arr.sum(axis=1))     # [6 15]\n"
   ]
  },
  {
   "cell_type": "code",
   "execution_count": 20,
   "id": "4102aa0e-4c4a-4ebf-bc7d-cb49421cc8be",
   "metadata": {},
   "outputs": [
    {
     "name": "stdout",
     "output_type": "stream",
     "text": [
      "[0.0000000e+00 1.0000000e+00 1.2246468e-16]\n",
      "[0. 1. 2.]\n",
      "[1. 2. 3.]\n"
     ]
    }
   ],
   "source": [
    "arr = np.array([0, np.pi/2, np.pi])\n",
    "\n",
    "print(np.sin(arr))  # [0. 1. 0.]\n",
    "print(np.log([1, np.e, np.e**2]))  # [0. 1. 2.]\n",
    "print(np.sqrt([1, 4, 9]))  # [1. 2. 3.]\n"
   ]
  },
  {
   "cell_type": "code",
   "execution_count": 21,
   "id": "5e509b8b-57b8-4282-8715-1602a3036b72",
   "metadata": {},
   "outputs": [
    {
     "name": "stdout",
     "output_type": "stream",
     "text": [
      "[[0.37454012 0.95071431 0.73199394]\n",
      " [0.59865848 0.15601864 0.15599452]]\n",
      "[[ 1.57921282  0.76743473 -0.46947439]\n",
      " [ 0.54256004 -0.46341769 -0.46572975]]\n",
      "[[6 9 1]\n",
      " [3 7 4]]\n",
      "[5 3 1 6 0 7 9 4 2 8]\n",
      "[2 3 8 2]\n",
      "Mean: 2.4\n",
      "Median: 2.0\n",
      "Variance: 1.04\n",
      "Matrix:\n",
      " [[26  2 20]\n",
      " [28 47  7]\n",
      " [44  8 47]]\n",
      "Mean: 25.444444444444443\n",
      "Std Dev: 1.0561840563327511\n"
     ]
    }
   ],
   "source": [
    "np.random.seed(42)  # For reproducibility\n",
    "\n",
    "print(np.random.rand(2, 3))     # Uniform [0, 1)\n",
    "print(np.random.randn(2, 3))    # Standard normal distribution\n",
    "print(np.random.randint(1, 10, size=(2, 3)))  # Random ints\n",
    "arr = np.arange(10)\n",
    "np.random.shuffle(arr)\n",
    "print(arr)\n",
    "\n",
    "print(np.random.choice(arr, size=4))  # Random sample\n",
    "arr = np.array([1, 2, 2, 3, 4])\n",
    "print(\"Mean:\", np.mean(arr))\n",
    "print(\"Median:\", np.median(arr))\n",
    "print(\"Variance:\", np.var(arr))\n",
    "arr = np.random.randint(1, 51, (3, 3))\n",
    "print(\"Matrix:\\n\", arr)\n",
    "print(\"Mean:\", arr.mean())\n",
    "arr = np.random.randn(1000)\n",
    "print(\"Std Dev:\", arr.std())\n"
   ]
  },
  {
   "cell_type": "code",
   "execution_count": 22,
   "id": "48b349f2-8268-4bdd-a6c4-28a59125b456",
   "metadata": {},
   "outputs": [
    {
     "name": "stdout",
     "output_type": "stream",
     "text": [
      "[[19 22]\n",
      " [43 50]]\n",
      "[[19 22]\n",
      " [43 50]]\n",
      "[[19 22]\n",
      " [43 50]]\n",
      "[[1 4]\n",
      " [2 5]\n",
      " [3 6]]\n",
      "Inverse:\n",
      " [[-2.   1. ]\n",
      " [ 1.5 -0.5]]\n",
      "Determinant: -2.0000000000000004\n",
      "Eigenvalues: [2. 3.]\n",
      "Eigenvectors:\n",
      " [[1. 0.]\n",
      " [0. 1.]]\n",
      "[1 2 3 4 5 6]\n",
      "[[1 2 3]\n",
      " [4 5 6]]\n",
      "[[1 4]\n",
      " [2 5]\n",
      " [3 6]]\n",
      "[array([[1, 2],\n",
      "       [5, 6]]), array([[3, 4],\n",
      "       [7, 8]])]\n",
      "[array([[1, 2, 3, 4]]), array([[5, 6, 7, 8]])]\n",
      "[array([[0, 1],\n",
      "       [2, 3]]), array([[4, 5],\n",
      "       [6, 7]]), array([[ 8,  9],\n",
      "       [10, 11]])]\n"
     ]
    }
   ],
   "source": [
    "a = np.array([[1, 2], [3, 4]])\n",
    "b = np.array([[5, 6], [7, 8]])\n",
    "\n",
    "dot = np.dot(a, b)\n",
    "print(dot)\n",
    "print(a @ b)          # New Python 3.5+ syntax\n",
    "print(np.matmul(a, b))  # NumPy function\n",
    "a = np.array([[1, 2, 3], [4, 5, 6]])\n",
    "print(a.T)  # Transposed version (3x2)\n",
    "from numpy.linalg import inv, det\n",
    "\n",
    "matrix = np.array([[1, 2], [3, 4]])\n",
    "inverse = inv(matrix)\n",
    "print(\"Inverse:\\n\", inverse)\n",
    "\n",
    "print(\"Determinant:\", det(matrix))  # Output: -2.0\n",
    "from numpy.linalg import eig\n",
    "\n",
    "a = np.array([[2, 0], [0, 3]])\n",
    "values, vectors = eig(a)\n",
    "\n",
    "print(\"Eigenvalues:\", values)\n",
    "print(\"Eigenvectors:\\n\", vectors)\n",
    "a = np.array([1, 2, 3])\n",
    "b = np.array([4, 5, 6])\n",
    "\n",
    "print(np.hstack((a, b)))  # [1 2 3 4 5 6]\n",
    "print(np.vstack((a, b)))\n",
    "print(np.column_stack((a, b)))  # Shape: (3, 2)\n",
    "arr = np.array([[1, 2, 3, 4], [5, 6, 7, 8]])\n",
    "print(np.hsplit(arr, 2))  # Splits into 2 (2x2)\n",
    "print(np.vsplit(arr, 2))  # Splits into 2 (1x4) arrays\n",
    "arr = np.arange(12).reshape(6, 2)\n",
    "print(np.vsplit(arr, 3))\n"
   ]
  },
  {
   "cell_type": "code",
   "execution_count": 23,
   "id": "9ebef765-5c47-4f06-90b1-6fa5288b00f4",
   "metadata": {},
   "outputs": [
    {
     "name": "stdout",
     "output_type": "stream",
     "text": [
      "[11 12 13]\n",
      "[[11 21 31]\n",
      " [12 22 32]\n",
      " [13 23 33]]\n",
      "8040\n",
      "8000\n"
     ]
    }
   ],
   "source": [
    "arr = np.array([1, 2, 3])\n",
    "print(arr + 10)  # [11 12 13]\n",
    "a = np.array([[1], [2], [3]])  # Shape: (3,1)\n",
    "b = np.array([10, 20, 30])     # Shape: (3,)\n",
    "print(a + b)\n",
    "arr = np.arange(1000000)\n",
    "squared = []\n",
    "for i in arr:\n",
    "    squared.append(i ** 2)\n",
    "arr = np.arange(1000000)\n",
    "squared = arr ** 2\n",
    "arr_list = list(range(1000))\n",
    "arr_numpy = np.arange(1000)\n",
    "\n",
    "print(arr_list.__sizeof__())      # Python list size\n",
    "print(arr_numpy.nbytes)           # NumPy array memory size\n"
   ]
  },
  {
   "cell_type": "code",
   "execution_count": 25,
   "id": "b8a4e35b-a8cf-48d0-8a95-07b225dd5a27",
   "metadata": {},
   "outputs": [
    {
     "name": "stdout",
     "output_type": "stream",
     "text": [
      "Marks:\n",
      " [[73 34 60 92]\n",
      " [53 62 78 96]\n",
      " [ 6 75 48 93]\n",
      " [84 30 57 60]\n",
      " [23 19 36  3]]\n",
      "Avg per student: [64.75 72.25 55.5  57.75 20.25]\n",
      "Max per subject: [84 75 78 96]\n",
      "Min per subject: [ 6 19 36  3]\n",
      "Top total: 289\n"
     ]
    }
   ],
   "source": [
    "import numpy as np\n",
    "\n",
    "marks = np.random.randint(0, 101, (5, 4))\n",
    "print(\"Marks:\\n\", marks)\n",
    "\n",
    "print(\"Avg per student:\", marks.mean(axis=1))\n",
    "print(\"Max per subject:\", marks.max(axis=0))\n",
    "print(\"Min per subject:\", marks.min(axis=0))\n",
    "print(\"Top total:\", marks.sum(axis=1).max())\n"
   ]
  },
  {
   "cell_type": "code",
   "execution_count": null,
   "id": "5d7ad98c-94b8-4c3d-be80-0f092f2e84ba",
   "metadata": {},
   "outputs": [],
   "source": []
  },
  {
   "cell_type": "code",
   "execution_count": null,
   "id": "350eb789-df05-437c-90b5-8ca73c5a63bf",
   "metadata": {},
   "outputs": [],
   "source": []
  }
 ],
 "metadata": {
  "kernelspec": {
   "display_name": "Python 3 (ipykernel)",
   "language": "python",
   "name": "python3"
  },
  "language_info": {
   "codemirror_mode": {
    "name": "ipython",
    "version": 3
   },
   "file_extension": ".py",
   "mimetype": "text/x-python",
   "name": "python",
   "nbconvert_exporter": "python",
   "pygments_lexer": "ipython3",
   "version": "3.10.0"
  }
 },
 "nbformat": 4,
 "nbformat_minor": 5
}
